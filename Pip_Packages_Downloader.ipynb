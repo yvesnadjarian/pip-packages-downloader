{
  "nbformat": 4,
  "nbformat_minor": 0,
  "metadata": {
    "colab": {
      "provenance": [],
      "toc_visible": true,
      "authorship_tag": "ABX9TyOymBJSFlUSwtUbtos6FEoT",
      "include_colab_link": true
    },
    "kernelspec": {
      "name": "python3",
      "display_name": "Python 3"
    },
    "language_info": {
      "name": "python"
    }
  },
  "cells": [
    {
      "cell_type": "markdown",
      "metadata": {
        "id": "view-in-github",
        "colab_type": "text"
      },
      "source": [
        "<a href=\"https://colab.research.google.com/github/yvesnadjarian/pip-packages-downloader/blob/main/Pip_Packages_Downloader.ipynb\" target=\"_parent\"><img src=\"https://colab.research.google.com/assets/colab-badge.svg\" alt=\"Open In Colab\"/></a>"
      ]
    },
    {
      "cell_type": "markdown",
      "source": [
        "Packages Downloader for when PIP is blocked.\n",
        "\n",
        "Update packages/requirements.txt for your needs."
      ],
      "metadata": {
        "id": "-iYbQnSzmM8N"
      }
    },
    {
      "cell_type": "code",
      "source": [
        "#Run this if need to clean previous packages\n",
        "!rm packages.zip\n",
        "!rm packages/*.*"
      ],
      "metadata": {
        "id": "w6NIrMTUoLpt"
      },
      "execution_count": null,
      "outputs": []
    },
    {
      "cell_type": "code",
      "source": [
        "!pip download -r packages/requirements.txt -d packages"
      ],
      "metadata": {
        "collapsed": true,
        "id": "biFCEa7xmDVm"
      },
      "execution_count": null,
      "outputs": []
    },
    {
      "cell_type": "code",
      "source": [
        "!zip -r packages.zip packages"
      ],
      "metadata": {
        "collapsed": true,
        "id": "KTOaIjwBmZPz"
      },
      "execution_count": null,
      "outputs": []
    }
  ]
}